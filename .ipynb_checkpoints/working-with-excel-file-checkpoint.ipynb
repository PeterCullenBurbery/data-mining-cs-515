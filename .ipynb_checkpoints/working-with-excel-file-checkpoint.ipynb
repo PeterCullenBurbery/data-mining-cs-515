{
 "cells": [
  {
   "cell_type": "markdown",
   "id": "6820c450-e5d8-4874-b440-acd4f522aae0",
   "metadata": {},
   "source": [
    "I asked ChatGPT for help on this project. I am still learning numpy, matplotlib, and pandas libraries. I did do some research on my own. I used Tutorials Point. I read the policy in the syllabus about AI before submitting this."
   ]
  },
  {
   "cell_type": "code",
   "execution_count": 2,
   "id": "c776cc6f",
   "metadata": {},
   "outputs": [],
   "source": [
    "import pandas as pd\n",
    "\n",
    "# Two-dimensional, size-mutable, potentially heterogeneous tabular data.\n",
    "# Data structure also contains labeled axes (rows and columns). \n",
    "# Arithmetic operations align on both row and column labels. Can be thought \n",
    "# of as a dict-like container for Series objects. The primary pandas data structure."
   ]
  },
  {
   "cell_type": "code",
   "execution_count": 3,
   "id": "73f1ceed",
   "metadata": {},
   "outputs": [],
   "source": [
    "df = pd.read_excel('/mnt/hgfs/Documents/semesters-at-marshall/2024-fall-cs-515-101/SampleData.xlsx', sheet_name='SalesOrders')"
   ]
  },
  {
   "cell_type": "code",
   "execution_count": 4,
   "id": "17024823",
   "metadata": {},
   "outputs": [
    {
     "data": {
      "text/plain": [
       "'/mnt/hgfs/Documents/semesters-at-marshall/2024-fall-cs-515-101'"
      ]
     },
     "execution_count": 4,
     "metadata": {},
     "output_type": "execute_result"
    }
   ],
   "source": [
    "pwd"
   ]
  },
  {
   "cell_type": "code",
   "execution_count": 5,
   "id": "1062af27",
   "metadata": {},
   "outputs": [
    {
     "data": {
      "text/html": [
       "<div>\n",
       "<style scoped>\n",
       "    .dataframe tbody tr th:only-of-type {\n",
       "        vertical-align: middle;\n",
       "    }\n",
       "\n",
       "    .dataframe tbody tr th {\n",
       "        vertical-align: top;\n",
       "    }\n",
       "\n",
       "    .dataframe thead th {\n",
       "        text-align: right;\n",
       "    }\n",
       "</style>\n",
       "<table border=\"1\" class=\"dataframe\">\n",
       "  <thead>\n",
       "    <tr style=\"text-align: right;\">\n",
       "      <th></th>\n",
       "      <th>OrderDate</th>\n",
       "      <th>Region</th>\n",
       "      <th>Rep</th>\n",
       "      <th>Item</th>\n",
       "      <th>Units</th>\n",
       "      <th>Unit Cost</th>\n",
       "      <th>Total</th>\n",
       "    </tr>\n",
       "  </thead>\n",
       "  <tbody>\n",
       "    <tr>\n",
       "      <th>0</th>\n",
       "      <td>2021-01-06</td>\n",
       "      <td>East</td>\n",
       "      <td>Jones</td>\n",
       "      <td>Pencil</td>\n",
       "      <td>95</td>\n",
       "      <td>1.99</td>\n",
       "      <td>189.05</td>\n",
       "    </tr>\n",
       "    <tr>\n",
       "      <th>1</th>\n",
       "      <td>2021-01-23</td>\n",
       "      <td>Central</td>\n",
       "      <td>Kivell</td>\n",
       "      <td>Binder</td>\n",
       "      <td>50</td>\n",
       "      <td>19.99</td>\n",
       "      <td>999.50</td>\n",
       "    </tr>\n",
       "    <tr>\n",
       "      <th>2</th>\n",
       "      <td>2021-02-09</td>\n",
       "      <td>Central</td>\n",
       "      <td>Jardine</td>\n",
       "      <td>Pencil</td>\n",
       "      <td>36</td>\n",
       "      <td>4.99</td>\n",
       "      <td>179.64</td>\n",
       "    </tr>\n",
       "    <tr>\n",
       "      <th>3</th>\n",
       "      <td>2021-02-26</td>\n",
       "      <td>Central</td>\n",
       "      <td>Gill</td>\n",
       "      <td>Pen</td>\n",
       "      <td>27</td>\n",
       "      <td>19.99</td>\n",
       "      <td>539.73</td>\n",
       "    </tr>\n",
       "    <tr>\n",
       "      <th>4</th>\n",
       "      <td>2021-03-15</td>\n",
       "      <td>West</td>\n",
       "      <td>Sorvino</td>\n",
       "      <td>Pencil</td>\n",
       "      <td>56</td>\n",
       "      <td>2.99</td>\n",
       "      <td>167.44</td>\n",
       "    </tr>\n",
       "    <tr>\n",
       "      <th>5</th>\n",
       "      <td>2021-04-01</td>\n",
       "      <td>East</td>\n",
       "      <td>Jones</td>\n",
       "      <td>Binder</td>\n",
       "      <td>60</td>\n",
       "      <td>4.99</td>\n",
       "      <td>299.40</td>\n",
       "    </tr>\n",
       "    <tr>\n",
       "      <th>6</th>\n",
       "      <td>2021-04-18</td>\n",
       "      <td>Central</td>\n",
       "      <td>Andrews</td>\n",
       "      <td>Pencil</td>\n",
       "      <td>75</td>\n",
       "      <td>1.99</td>\n",
       "      <td>149.25</td>\n",
       "    </tr>\n",
       "    <tr>\n",
       "      <th>7</th>\n",
       "      <td>2021-05-05</td>\n",
       "      <td>Central</td>\n",
       "      <td>Jardine</td>\n",
       "      <td>Pencil</td>\n",
       "      <td>90</td>\n",
       "      <td>4.99</td>\n",
       "      <td>449.10</td>\n",
       "    </tr>\n",
       "    <tr>\n",
       "      <th>8</th>\n",
       "      <td>2021-05-22</td>\n",
       "      <td>West</td>\n",
       "      <td>Thompson</td>\n",
       "      <td>Pencil</td>\n",
       "      <td>32</td>\n",
       "      <td>1.99</td>\n",
       "      <td>63.68</td>\n",
       "    </tr>\n",
       "    <tr>\n",
       "      <th>9</th>\n",
       "      <td>2021-06-08</td>\n",
       "      <td>East</td>\n",
       "      <td>Jones</td>\n",
       "      <td>Binder</td>\n",
       "      <td>60</td>\n",
       "      <td>8.99</td>\n",
       "      <td>539.40</td>\n",
       "    </tr>\n",
       "    <tr>\n",
       "      <th>10</th>\n",
       "      <td>2021-06-25</td>\n",
       "      <td>Central</td>\n",
       "      <td>Morgan</td>\n",
       "      <td>Pencil</td>\n",
       "      <td>90</td>\n",
       "      <td>4.99</td>\n",
       "      <td>449.10</td>\n",
       "    </tr>\n",
       "    <tr>\n",
       "      <th>11</th>\n",
       "      <td>2021-07-12</td>\n",
       "      <td>East</td>\n",
       "      <td>Howard</td>\n",
       "      <td>Binder</td>\n",
       "      <td>29</td>\n",
       "      <td>1.99</td>\n",
       "      <td>57.71</td>\n",
       "    </tr>\n",
       "    <tr>\n",
       "      <th>12</th>\n",
       "      <td>2021-07-29</td>\n",
       "      <td>East</td>\n",
       "      <td>Parent</td>\n",
       "      <td>Binder</td>\n",
       "      <td>81</td>\n",
       "      <td>19.99</td>\n",
       "      <td>1619.19</td>\n",
       "    </tr>\n",
       "    <tr>\n",
       "      <th>13</th>\n",
       "      <td>2021-08-15</td>\n",
       "      <td>East</td>\n",
       "      <td>Jones</td>\n",
       "      <td>Pencil</td>\n",
       "      <td>35</td>\n",
       "      <td>4.99</td>\n",
       "      <td>174.65</td>\n",
       "    </tr>\n",
       "    <tr>\n",
       "      <th>14</th>\n",
       "      <td>2021-09-01</td>\n",
       "      <td>Central</td>\n",
       "      <td>Smith</td>\n",
       "      <td>Desk</td>\n",
       "      <td>2</td>\n",
       "      <td>125.00</td>\n",
       "      <td>250.00</td>\n",
       "    </tr>\n",
       "    <tr>\n",
       "      <th>15</th>\n",
       "      <td>2021-09-18</td>\n",
       "      <td>East</td>\n",
       "      <td>Jones</td>\n",
       "      <td>Pen Set</td>\n",
       "      <td>16</td>\n",
       "      <td>15.99</td>\n",
       "      <td>255.84</td>\n",
       "    </tr>\n",
       "    <tr>\n",
       "      <th>16</th>\n",
       "      <td>2021-10-05</td>\n",
       "      <td>Central</td>\n",
       "      <td>Morgan</td>\n",
       "      <td>Binder</td>\n",
       "      <td>28</td>\n",
       "      <td>8.99</td>\n",
       "      <td>251.72</td>\n",
       "    </tr>\n",
       "    <tr>\n",
       "      <th>17</th>\n",
       "      <td>2021-10-22</td>\n",
       "      <td>East</td>\n",
       "      <td>Jones</td>\n",
       "      <td>Pen</td>\n",
       "      <td>64</td>\n",
       "      <td>8.99</td>\n",
       "      <td>575.36</td>\n",
       "    </tr>\n",
       "    <tr>\n",
       "      <th>18</th>\n",
       "      <td>2021-11-08</td>\n",
       "      <td>East</td>\n",
       "      <td>Parent</td>\n",
       "      <td>Pen</td>\n",
       "      <td>15</td>\n",
       "      <td>19.99</td>\n",
       "      <td>299.85</td>\n",
       "    </tr>\n",
       "    <tr>\n",
       "      <th>19</th>\n",
       "      <td>2021-11-25</td>\n",
       "      <td>Central</td>\n",
       "      <td>Kivell</td>\n",
       "      <td>Pen Set</td>\n",
       "      <td>96</td>\n",
       "      <td>4.99</td>\n",
       "      <td>479.04</td>\n",
       "    </tr>\n",
       "    <tr>\n",
       "      <th>20</th>\n",
       "      <td>2021-12-12</td>\n",
       "      <td>Central</td>\n",
       "      <td>Smith</td>\n",
       "      <td>Pencil</td>\n",
       "      <td>67</td>\n",
       "      <td>1.29</td>\n",
       "      <td>86.43</td>\n",
       "    </tr>\n",
       "    <tr>\n",
       "      <th>21</th>\n",
       "      <td>2021-12-29</td>\n",
       "      <td>East</td>\n",
       "      <td>Parent</td>\n",
       "      <td>Pen Set</td>\n",
       "      <td>74</td>\n",
       "      <td>15.99</td>\n",
       "      <td>1183.26</td>\n",
       "    </tr>\n",
       "    <tr>\n",
       "      <th>22</th>\n",
       "      <td>2022-01-15</td>\n",
       "      <td>Central</td>\n",
       "      <td>Gill</td>\n",
       "      <td>Binder</td>\n",
       "      <td>46</td>\n",
       "      <td>8.99</td>\n",
       "      <td>413.54</td>\n",
       "    </tr>\n",
       "    <tr>\n",
       "      <th>23</th>\n",
       "      <td>2022-02-01</td>\n",
       "      <td>Central</td>\n",
       "      <td>Smith</td>\n",
       "      <td>Binder</td>\n",
       "      <td>87</td>\n",
       "      <td>15.00</td>\n",
       "      <td>1305.00</td>\n",
       "    </tr>\n",
       "    <tr>\n",
       "      <th>24</th>\n",
       "      <td>2022-02-18</td>\n",
       "      <td>East</td>\n",
       "      <td>Jones</td>\n",
       "      <td>Binder</td>\n",
       "      <td>4</td>\n",
       "      <td>4.99</td>\n",
       "      <td>19.96</td>\n",
       "    </tr>\n",
       "    <tr>\n",
       "      <th>25</th>\n",
       "      <td>2022-03-07</td>\n",
       "      <td>West</td>\n",
       "      <td>Sorvino</td>\n",
       "      <td>Binder</td>\n",
       "      <td>7</td>\n",
       "      <td>19.99</td>\n",
       "      <td>139.93</td>\n",
       "    </tr>\n",
       "    <tr>\n",
       "      <th>26</th>\n",
       "      <td>2022-03-24</td>\n",
       "      <td>Central</td>\n",
       "      <td>Jardine</td>\n",
       "      <td>Pen Set</td>\n",
       "      <td>50</td>\n",
       "      <td>4.99</td>\n",
       "      <td>249.50</td>\n",
       "    </tr>\n",
       "    <tr>\n",
       "      <th>27</th>\n",
       "      <td>2022-04-10</td>\n",
       "      <td>Central</td>\n",
       "      <td>Andrews</td>\n",
       "      <td>Pencil</td>\n",
       "      <td>66</td>\n",
       "      <td>1.99</td>\n",
       "      <td>131.34</td>\n",
       "    </tr>\n",
       "    <tr>\n",
       "      <th>28</th>\n",
       "      <td>2022-04-27</td>\n",
       "      <td>East</td>\n",
       "      <td>Howard</td>\n",
       "      <td>Pen</td>\n",
       "      <td>96</td>\n",
       "      <td>4.99</td>\n",
       "      <td>479.04</td>\n",
       "    </tr>\n",
       "    <tr>\n",
       "      <th>29</th>\n",
       "      <td>2022-05-14</td>\n",
       "      <td>Central</td>\n",
       "      <td>Gill</td>\n",
       "      <td>Pencil</td>\n",
       "      <td>53</td>\n",
       "      <td>1.29</td>\n",
       "      <td>68.37</td>\n",
       "    </tr>\n",
       "    <tr>\n",
       "      <th>30</th>\n",
       "      <td>2022-05-31</td>\n",
       "      <td>Central</td>\n",
       "      <td>Gill</td>\n",
       "      <td>Binder</td>\n",
       "      <td>80</td>\n",
       "      <td>8.99</td>\n",
       "      <td>719.20</td>\n",
       "    </tr>\n",
       "    <tr>\n",
       "      <th>31</th>\n",
       "      <td>2022-06-17</td>\n",
       "      <td>Central</td>\n",
       "      <td>Kivell</td>\n",
       "      <td>Desk</td>\n",
       "      <td>5</td>\n",
       "      <td>125.00</td>\n",
       "      <td>625.00</td>\n",
       "    </tr>\n",
       "    <tr>\n",
       "      <th>32</th>\n",
       "      <td>2022-07-04</td>\n",
       "      <td>East</td>\n",
       "      <td>Jones</td>\n",
       "      <td>Pen Set</td>\n",
       "      <td>62</td>\n",
       "      <td>4.99</td>\n",
       "      <td>309.38</td>\n",
       "    </tr>\n",
       "    <tr>\n",
       "      <th>33</th>\n",
       "      <td>2022-07-21</td>\n",
       "      <td>Central</td>\n",
       "      <td>Morgan</td>\n",
       "      <td>Pen Set</td>\n",
       "      <td>55</td>\n",
       "      <td>12.49</td>\n",
       "      <td>686.95</td>\n",
       "    </tr>\n",
       "    <tr>\n",
       "      <th>34</th>\n",
       "      <td>2022-08-07</td>\n",
       "      <td>Central</td>\n",
       "      <td>Kivell</td>\n",
       "      <td>Pen Set</td>\n",
       "      <td>42</td>\n",
       "      <td>23.95</td>\n",
       "      <td>1005.90</td>\n",
       "    </tr>\n",
       "    <tr>\n",
       "      <th>35</th>\n",
       "      <td>2022-08-24</td>\n",
       "      <td>West</td>\n",
       "      <td>Sorvino</td>\n",
       "      <td>Desk</td>\n",
       "      <td>3</td>\n",
       "      <td>275.00</td>\n",
       "      <td>825.00</td>\n",
       "    </tr>\n",
       "    <tr>\n",
       "      <th>36</th>\n",
       "      <td>2022-09-10</td>\n",
       "      <td>Central</td>\n",
       "      <td>Gill</td>\n",
       "      <td>Pencil</td>\n",
       "      <td>7</td>\n",
       "      <td>1.29</td>\n",
       "      <td>9.03</td>\n",
       "    </tr>\n",
       "    <tr>\n",
       "      <th>37</th>\n",
       "      <td>2022-09-27</td>\n",
       "      <td>West</td>\n",
       "      <td>Sorvino</td>\n",
       "      <td>Pen</td>\n",
       "      <td>76</td>\n",
       "      <td>1.99</td>\n",
       "      <td>151.24</td>\n",
       "    </tr>\n",
       "    <tr>\n",
       "      <th>38</th>\n",
       "      <td>2022-10-14</td>\n",
       "      <td>West</td>\n",
       "      <td>Thompson</td>\n",
       "      <td>Binder</td>\n",
       "      <td>57</td>\n",
       "      <td>19.99</td>\n",
       "      <td>1139.43</td>\n",
       "    </tr>\n",
       "    <tr>\n",
       "      <th>39</th>\n",
       "      <td>2022-10-31</td>\n",
       "      <td>Central</td>\n",
       "      <td>Andrews</td>\n",
       "      <td>Pencil</td>\n",
       "      <td>14</td>\n",
       "      <td>1.29</td>\n",
       "      <td>18.06</td>\n",
       "    </tr>\n",
       "    <tr>\n",
       "      <th>40</th>\n",
       "      <td>2022-11-17</td>\n",
       "      <td>Central</td>\n",
       "      <td>Jardine</td>\n",
       "      <td>Binder</td>\n",
       "      <td>11</td>\n",
       "      <td>4.99</td>\n",
       "      <td>54.89</td>\n",
       "    </tr>\n",
       "    <tr>\n",
       "      <th>41</th>\n",
       "      <td>2022-12-04</td>\n",
       "      <td>Central</td>\n",
       "      <td>Jardine</td>\n",
       "      <td>Binder</td>\n",
       "      <td>94</td>\n",
       "      <td>19.99</td>\n",
       "      <td>1879.06</td>\n",
       "    </tr>\n",
       "    <tr>\n",
       "      <th>42</th>\n",
       "      <td>2022-12-21</td>\n",
       "      <td>Central</td>\n",
       "      <td>Andrews</td>\n",
       "      <td>Binder</td>\n",
       "      <td>28</td>\n",
       "      <td>4.99</td>\n",
       "      <td>139.72</td>\n",
       "    </tr>\n",
       "  </tbody>\n",
       "</table>\n",
       "</div>"
      ],
      "text/plain": [
       "    OrderDate   Region       Rep     Item  Units  Unit Cost    Total\n",
       "0  2021-01-06     East     Jones   Pencil     95       1.99   189.05\n",
       "1  2021-01-23  Central    Kivell   Binder     50      19.99   999.50\n",
       "2  2021-02-09  Central   Jardine   Pencil     36       4.99   179.64\n",
       "3  2021-02-26  Central      Gill      Pen     27      19.99   539.73\n",
       "4  2021-03-15     West   Sorvino   Pencil     56       2.99   167.44\n",
       "5  2021-04-01     East     Jones   Binder     60       4.99   299.40\n",
       "6  2021-04-18  Central   Andrews   Pencil     75       1.99   149.25\n",
       "7  2021-05-05  Central   Jardine   Pencil     90       4.99   449.10\n",
       "8  2021-05-22     West  Thompson   Pencil     32       1.99    63.68\n",
       "9  2021-06-08     East     Jones   Binder     60       8.99   539.40\n",
       "10 2021-06-25  Central    Morgan   Pencil     90       4.99   449.10\n",
       "11 2021-07-12     East    Howard   Binder     29       1.99    57.71\n",
       "12 2021-07-29     East    Parent   Binder     81      19.99  1619.19\n",
       "13 2021-08-15     East     Jones   Pencil     35       4.99   174.65\n",
       "14 2021-09-01  Central     Smith     Desk      2     125.00   250.00\n",
       "15 2021-09-18     East     Jones  Pen Set     16      15.99   255.84\n",
       "16 2021-10-05  Central    Morgan   Binder     28       8.99   251.72\n",
       "17 2021-10-22     East     Jones      Pen     64       8.99   575.36\n",
       "18 2021-11-08     East    Parent      Pen     15      19.99   299.85\n",
       "19 2021-11-25  Central    Kivell  Pen Set     96       4.99   479.04\n",
       "20 2021-12-12  Central     Smith   Pencil     67       1.29    86.43\n",
       "21 2021-12-29     East    Parent  Pen Set     74      15.99  1183.26\n",
       "22 2022-01-15  Central      Gill   Binder     46       8.99   413.54\n",
       "23 2022-02-01  Central     Smith   Binder     87      15.00  1305.00\n",
       "24 2022-02-18     East     Jones   Binder      4       4.99    19.96\n",
       "25 2022-03-07     West   Sorvino   Binder      7      19.99   139.93\n",
       "26 2022-03-24  Central   Jardine  Pen Set     50       4.99   249.50\n",
       "27 2022-04-10  Central   Andrews   Pencil     66       1.99   131.34\n",
       "28 2022-04-27     East    Howard      Pen     96       4.99   479.04\n",
       "29 2022-05-14  Central      Gill   Pencil     53       1.29    68.37\n",
       "30 2022-05-31  Central      Gill   Binder     80       8.99   719.20\n",
       "31 2022-06-17  Central    Kivell     Desk      5     125.00   625.00\n",
       "32 2022-07-04     East     Jones  Pen Set     62       4.99   309.38\n",
       "33 2022-07-21  Central    Morgan  Pen Set     55      12.49   686.95\n",
       "34 2022-08-07  Central    Kivell  Pen Set     42      23.95  1005.90\n",
       "35 2022-08-24     West   Sorvino     Desk      3     275.00   825.00\n",
       "36 2022-09-10  Central      Gill   Pencil      7       1.29     9.03\n",
       "37 2022-09-27     West   Sorvino      Pen     76       1.99   151.24\n",
       "38 2022-10-14     West  Thompson   Binder     57      19.99  1139.43\n",
       "39 2022-10-31  Central   Andrews   Pencil     14       1.29    18.06\n",
       "40 2022-11-17  Central   Jardine   Binder     11       4.99    54.89\n",
       "41 2022-12-04  Central   Jardine   Binder     94      19.99  1879.06\n",
       "42 2022-12-21  Central   Andrews   Binder     28       4.99   139.72"
      ]
     },
     "execution_count": 5,
     "metadata": {},
     "output_type": "execute_result"
    }
   ],
   "source": [
    "df"
   ]
  },
  {
   "cell_type": "code",
   "execution_count": 23,
   "id": "08e4a445",
   "metadata": {},
   "outputs": [
    {
     "data": {
      "text/plain": [
       "43"
      ]
     },
     "execution_count": 23,
     "metadata": {},
     "output_type": "execute_result"
    }
   ],
   "source": [
    "# count the number of rows\n",
    "len(df.index)"
   ]
  },
  {
   "cell_type": "code",
   "execution_count": 24,
   "id": "0745e6ab",
   "metadata": {},
   "outputs": [
    {
     "data": {
      "text/plain": [
       "7"
      ]
     },
     "execution_count": 24,
     "metadata": {},
     "output_type": "execute_result"
    }
   ],
   "source": [
    "# count the number of columns\n",
    "len(df.columns)"
   ]
  },
  {
   "cell_type": "code",
   "execution_count": 25,
   "id": "43460555",
   "metadata": {},
   "outputs": [
    {
     "data": {
      "text/plain": [
       "Index(['OrderDate', 'Region', 'Rep', 'Item', 'Units', 'Unit Cost', 'Total'], dtype='object')"
      ]
     },
     "execution_count": 25,
     "metadata": {},
     "output_type": "execute_result"
    }
   ],
   "source": [
    "df.columns"
   ]
  },
  {
   "cell_type": "code",
   "execution_count": 26,
   "id": "b25c876e",
   "metadata": {},
   "outputs": [
    {
     "data": {
      "text/plain": [
       "RangeIndex(start=0, stop=43, step=1)"
      ]
     },
     "execution_count": 26,
     "metadata": {},
     "output_type": "execute_result"
    }
   ],
   "source": [
    "df.index"
   ]
  },
  {
   "cell_type": "code",
   "execution_count": 27,
   "id": "9172f352",
   "metadata": {},
   "outputs": [
    {
     "data": {
      "text/plain": [
       "'OrderDate'"
      ]
     },
     "execution_count": 27,
     "metadata": {},
     "output_type": "execute_result"
    }
   ],
   "source": [
    "df.columns[0]"
   ]
  },
  {
   "cell_type": "code",
   "execution_count": 28,
   "id": "554f86e4",
   "metadata": {},
   "outputs": [
    {
     "data": {
      "text/plain": [
       "0    2021-01-06\n",
       "1    2021-01-23\n",
       "2    2021-02-09\n",
       "3    2021-02-26\n",
       "4    2021-03-15\n",
       "5    2021-04-01\n",
       "6    2021-04-18\n",
       "7    2021-05-05\n",
       "8    2021-05-22\n",
       "9    2021-06-08\n",
       "10   2021-06-25\n",
       "11   2021-07-12\n",
       "12   2021-07-29\n",
       "13   2021-08-15\n",
       "14   2021-09-01\n",
       "15   2021-09-18\n",
       "16   2021-10-05\n",
       "17   2021-10-22\n",
       "18   2021-11-08\n",
       "19   2021-11-25\n",
       "20   2021-12-12\n",
       "21   2021-12-29\n",
       "22   2022-01-15\n",
       "23   2022-02-01\n",
       "24   2022-02-18\n",
       "25   2022-03-07\n",
       "26   2022-03-24\n",
       "27   2022-04-10\n",
       "28   2022-04-27\n",
       "29   2022-05-14\n",
       "30   2022-05-31\n",
       "31   2022-06-17\n",
       "32   2022-07-04\n",
       "33   2022-07-21\n",
       "34   2022-08-07\n",
       "35   2022-08-24\n",
       "36   2022-09-10\n",
       "37   2022-09-27\n",
       "38   2022-10-14\n",
       "39   2022-10-31\n",
       "40   2022-11-17\n",
       "41   2022-12-04\n",
       "42   2022-12-21\n",
       "Name: OrderDate, dtype: datetime64[ns]"
      ]
     },
     "execution_count": 28,
     "metadata": {},
     "output_type": "execute_result"
    }
   ],
   "source": [
    "df['OrderDate']"
   ]
  },
  {
   "cell_type": "code",
   "execution_count": null,
   "id": "ecc796d2",
   "metadata": {},
   "outputs": [],
   "source": [
    "# Access a group of rows and columns by label(s) or a boolean array.\n",
    "df.loc[0]"
   ]
  },
  {
   "cell_type": "code",
   "execution_count": null,
   "id": "d354bca4",
   "metadata": {},
   "outputs": [],
   "source": [
    "# Purely integer-location based indexing for selection by position.\n",
    "df.iloc[0]\n"
   ]
  },
  {
   "cell_type": "code",
   "execution_count": null,
   "id": "7f5605f9",
   "metadata": {},
   "outputs": [],
   "source": [
    "# please create a github profile to upload the results of your data analysis\n",
    "# you can download the ipynb file in the form a notebook.\n",
    "#For this assignment, you are supposed to submit the notebook.\n",
    "\n",
    "# tasks/Questions\n",
    "# plot the histograms for the data distribution in all the columns\n",
    "# which Rep has taken most of the orders for the Central Region?\n",
    "# which item is most frequently bought?\n",
    "# which item is most frequently bought the April 2022\n",
    "# plot the distribution of the items bought in June 2021\n",
    "# find the correlation between the two columns 'Region' and 'Units'"
   ]
  },
  {
   "cell_type": "code",
   "execution_count": 28,
   "id": "d7014170-17b2-4c29-af2f-e234205daace",
   "metadata": {},
   "outputs": [],
   "source": [
    "import matplotlib.pyplot as plt"
   ]
  },
  {
   "cell_type": "code",
   "execution_count": 16,
   "id": "aa2d6e53-fc75-40ec-8033-413d2844bf65",
   "metadata": {},
   "outputs": [
    {
     "data": {
      "text/plain": [
       "(array([5., 4., 4., 4., 4., 5., 4., 4., 4., 5.]),\n",
       " array([18633. , 18704.4, 18775.8, 18847.2, 18918.6, 18990. , 19061.4,\n",
       "        19132.8, 19204.2, 19275.6, 19347. ]),\n",
       " <BarContainer object of 10 artists>)"
      ]
     },
     "execution_count": 16,
     "metadata": {},
     "output_type": "execute_result"
    },
    {
     "data": {
      "image/png": "[encoded data removed]",
      "text/plain": [
       "<Figure size 640x480 with 1 Axes>"
      ]
     },
     "metadata": {},
     "output_type": "display_data"
    }
   ],
   "source": [
    "plt.hist(df[\"OrderDate\"])"
   ]
  },
  {
   "cell_type": "code",
   "execution_count": 17,
   "id": "b7af479b-0cee-4253-b5e6-64087e8f561e",
   "metadata": {},
   "outputs": [
    {
     "data": {
      "text/plain": [
       "'Region'"
      ]
     },
     "execution_count": 17,
     "metadata": {},
     "output_type": "execute_result"
    }
   ],
   "source": [
    "df.columns[1]"
   ]
  },
  {
   "cell_type": "code",
   "execution_count": 18,
   "id": "6482eb5a-c5f3-47c2-993a-c94a2427e250",
   "metadata": {},
   "outputs": [
    {
     "data": {
      "text/plain": [
       "(array([13.,  0.,  0.,  0.,  0., 24.,  0.,  0.,  0.,  6.]),\n",
       " array([0. , 0.2, 0.4, 0.6, 0.8, 1. , 1.2, 1.4, 1.6, 1.8, 2. ]),\n",
       " <BarContainer object of 10 artists>)"
      ]
     },
     "execution_count": 18,
     "metadata": {},
     "output_type": "execute_result"
    },
    {
     "data": {
      "image/png": "[encoded data removed]",
      "text/plain": [
       "<Figure size 640x480 with 1 Axes>"
      ]
     },
     "metadata": {},
     "output_type": "display_data"
    }
   ],
   "source": [
    "plt.hist(df[\"Region\"])"
   ]
  },
  {
   "cell_type": "code",
   "execution_count": 20,
   "id": "acf2f01a-ccb5-4dc1-b256-bbbe220d9a7d",
   "metadata": {},
   "outputs": [
    {
     "data": {
      "text/plain": [
       "(array([8., 4., 5., 5., 4., 4., 2., 3., 2., 6.]),\n",
       " array([ 0.,  1.,  2.,  3.,  4.,  5.,  6.,  7.,  8.,  9., 10.]),\n",
       " <BarContainer object of 10 artists>)"
      ]
     },
     "execution_count": 20,
     "metadata": {},
     "output_type": "execute_result"
    },
    {
     "data": {
      "image/png": "[encoded data removed]",
      "text/plain": [
       "<Figure size 640x480 with 1 Axes>"
      ]
     },
     "metadata": {},
     "output_type": "display_data"
    }
   ],
   "source": [
    "plt.hist(df[df.columns[2]])"
   ]
  },
  {
   "cell_type": "code",
   "execution_count": 21,
   "id": "036ff398-0a42-450d-8ce7-b92081f491d3",
   "metadata": {},
   "outputs": [
    {
     "data": {
      "text/plain": [
       "(array([13.,  0., 15.,  0.,  0.,  5.,  0.,  3.,  0.,  7.]),\n",
       " array([0. , 0.4, 0.8, 1.2, 1.6, 2. , 2.4, 2.8, 3.2, 3.6, 4. ]),\n",
       " <BarContainer object of 10 artists>)"
      ]
     },
     "execution_count": 21,
     "metadata": {},
     "output_type": "execute_result"
    },
    {
     "data": {
      "image/png": "[encoded data removed]",
      "text/plain": [
       "<Figure size 640x480 with 1 Axes>"
      ]
     },
     "metadata": {},
     "output_type": "display_data"
    }
   ],
   "source": [
    "plt.hist(df[df.columns[3]])"
   ]
  },
  {
   "cell_type": "code",
   "execution_count": 22,
   "id": "6f480873-4628-47a3-8b66-6e07c14c3b48",
   "metadata": {},
   "outputs": [
    {
     "data": {
      "text/plain": [
       "(array([7., 3., 4., 3., 2., 6., 6., 3., 2., 7.]),\n",
       " array([ 2. , 11.4, 20.8, 30.2, 39.6, 49. , 58.4, 67.8, 77.2, 86.6, 96. ]),\n",
       " <BarContainer object of 10 artists>)"
      ]
     },
     "execution_count": 22,
     "metadata": {},
     "output_type": "execute_result"
    },
    {
     "data": {
      "image/png": "[encoded data removed]",
      "text/plain": [
       "<Figure size 640x480 with 1 Axes>"
      ]
     },
     "metadata": {},
     "output_type": "display_data"
    }
   ],
   "source": [
    "plt.hist(df[df.columns[4]])"
   ]
  },
  {
   "cell_type": "code",
   "execution_count": 23,
   "id": "eeb81d93-b0bc-41b3-925d-e293cba9247a",
   "metadata": {},
   "outputs": [
    {
     "data": {
      "text/plain": [
       "(array([40.,  0.,  0.,  0.,  2.,  0.,  0.,  0.,  0.,  1.]),\n",
       " array([  1.29 ,  28.661,  56.032,  83.403, 110.774, 138.145, 165.516,\n",
       "        192.887, 220.258, 247.629, 275.   ]),\n",
       " <BarContainer object of 10 artists>)"
      ]
     },
     "execution_count": 23,
     "metadata": {},
     "output_type": "execute_result"
    },
    {
     "data": {
      "image/png": "[encoded data removed]",
      "text/plain": [
       "<Figure size 640x480 with 1 Axes>"
      ]
     },
     "metadata": {},
     "output_type": "display_data"
    }
   ],
   "source": [
    "plt.hist(df[df.columns[5]])"
   ]
  },
  {
   "cell_type": "code",
   "execution_count": 24,
   "id": "22774264-0136-4614-b220-80f46499cc7f",
   "metadata": {},
   "outputs": [
    {
     "data": {
      "text/plain": [
       "(array([17.,  7.,  7.,  4.,  1.,  2.,  3.,  0.,  1.,  1.]),\n",
       " array([   9.03 ,  196.033,  383.036,  570.039,  757.042,  944.045,\n",
       "        1131.048, 1318.051, 1505.054, 1692.057, 1879.06 ]),\n",
       " <BarContainer object of 10 artists>)"
      ]
     },
     "execution_count": 24,
     "metadata": {},
     "output_type": "execute_result"
    },
    {
     "data": {
      "image/png": "[encoded data removed]",
      "text/plain": [
       "<Figure size 640x480 with 1 Axes>"
      ]
     },
     "metadata": {},
     "output_type": "display_data"
    }
   ],
   "source": [
    "plt.hist(df[df.columns[6]])"
   ]
  },
  {
   "cell_type": "code",
   "execution_count": 29,
   "id": "031a3797-040d-45a3-a3dc-16da8adf7cc5",
   "metadata": {},
   "outputs": [
    {
     "data": {
      "image/png": "[encoded data removed]",
      "text/plain": [
       "<Figure size 1400x1000 with 4 Axes>"
      ]
     },
     "metadata": {},
     "output_type": "display_data"
    }
   ],
   "source": [
    "# Task 1: Plot histograms for the data distribution in all the columns\n",
    "df.hist(bins=20, figsize=(14, 10))\n",
    "plt.suptitle(\"Data Distribution in All Columns\", fontsize=16)\n",
    "plt.show()"
   ]
  },
  {
   "cell_type": "code",
   "execution_count": 30,
   "id": "bc21ef31-c29f-4e5b-bf07-25d3787b0047",
   "metadata": {},
   "outputs": [],
   "source": [
    "# Task 2: Which Rep has taken most of the orders for the Central Region?\n",
    "most_orders_central = df[df['Region'] == 'Central']['Rep'].value_counts().idxmax()"
   ]
  },
  {
   "cell_type": "code",
   "execution_count": 31,
   "id": "e2df562c-b0fc-4e80-9e1c-ab10e469615a",
   "metadata": {},
   "outputs": [],
   "source": [
    "# Task 3: Which item is most frequently bought?\n",
    "most_frequent_item = df['Item'].value_counts().idxmax()"
   ]
  },
  {
   "cell_type": "code",
   "execution_count": 32,
   "id": "68473ea1-9ae4-4dbf-8d62-c0b13ff6cb70",
   "metadata": {},
   "outputs": [],
   "source": [
    "# Task 4: Which item is most frequently bought in April 2022?\n",
    "most_frequent_april_2022 = df[(df['OrderDate'].dt.year == 2022) & (df['OrderDate'].dt.month == 4)]['Item'].value_counts().idxmax()"
   ]
  },
  {
   "cell_type": "code",
   "execution_count": 33,
   "id": "dcc7ff18-b7dd-4f99-9577-16a69b585161",
   "metadata": {},
   "outputs": [
    {
     "data": {
      "image/png": "[encoded data removed]",
      "text/plain": [
       "<Figure size 640x480 with 1 Axes>"
      ]
     },
     "metadata": {},
     "output_type": "display_data"
    }
   ],
   "source": [
    "# Task 5: Plot the distribution of the items bought in June 2021\n",
    "june_2021_items = df[(df['OrderDate'].dt.year == 2021) & (df['OrderDate'].dt.month == 6)]['Item'].value_counts()\n",
    "june_2021_items.plot(kind='bar', color='skyblue')\n",
    "plt.title('Distribution of Items Bought in June 2021')\n",
    "plt.xlabel('Item')\n",
    "plt.ylabel('Frequency')\n",
    "plt.show()"
   ]
  },
  {
   "cell_type": "code",
   "execution_count": 34,
   "id": "58daf8fe-cd20-4e4c-a394-18f546cff864",
   "metadata": {},
   "outputs": [],
   "source": [
    "# Task 6: Find the correlation between the two columns 'Region' and 'Units'\n",
    "# Correlation can only be calculated on numerical data, so we need to convert 'Region' to a numerical value.\n",
    "df['Region_Encoded'] = df['Region'].astype('category').cat.codes\n",
    "correlation = df['Region_Encoded'].corr(df['Units'])"
   ]
  },
  {
   "cell_type": "markdown",
   "id": "e9978985-27f5-49cc-b704-6184e493262a",
   "metadata": {},
   "source": [
    "# tasks/Questions\n",
    "# plot the histograms for the data distribution in all the columns\n",
    "# which Rep has taken most of the orders for the Central Region?\n",
    "# which item is most frequently bought?\n",
    "# which item is most frequently bought the April 2022\n",
    "# plot the distribution of the items bought in June 2021\n",
    "# find the correlation between the two columns 'Region' and 'Units'"
   ]
  },
  {
   "cell_type": "code",
   "execution_count": 35,
   "id": "888db57d-7d87-43e2-b584-a60a98aa0852",
   "metadata": {},
   "outputs": [
    {
     "data": {
      "text/plain": [
       "('Jardine', 'Binder', 'Pencil', -0.08673917807467119)"
      ]
     },
     "execution_count": 35,
     "metadata": {},
     "output_type": "execute_result"
    }
   ],
   "source": [
    "most_orders_central, most_frequent_item, most_frequent_april_2022, correlation"
   ]
  },
  {
   "cell_type": "markdown",
   "id": "24fcf9d3-3a9c-4ad0-81fe-dd62b8de0559",
   "metadata": {},
   "source": [
    "the rep that has taken most of the orders for the central region is Jardine."
   ]
  },
  {
   "cell_type": "markdown",
   "id": "c5275598-a366-4411-8b65-7895c2a2191d",
   "metadata": {},
   "source": [
    "the item most frequently bought is the binder."
   ]
  },
  {
   "cell_type": "markdown",
   "id": "58770b39-3e4a-4484-bd65-a078b43b4857",
   "metadata": {},
   "source": [
    "the item most frequently bought in April 2022 is the pencil."
   ]
  },
  {
   "cell_type": "markdown",
   "id": "a9f534eb-8dc3-4d93-8359-ce7c731eb3e9",
   "metadata": {},
   "source": [
    "The correlation between the two columns 'Region' and 'Units' is -0.08673917807467119."
   ]
  },
  {
   "cell_type": "code",
   "execution_count": null,
   "id": "f9e75415-99ae-492a-a6c7-b836437f5d38",
   "metadata": {},
   "outputs": [],
   "source": []
  }
 ],
 "metadata": {
  "kernelspec": {
   "display_name": "Python 3 (ipykernel)",
   "language": "python",
   "name": "python3"
  },
  "language_info": {
   "codemirror_mode": {
    "name": "ipython",
    "version": 3
   },
   "file_extension": ".py",
   "mimetype": "text/x-python",
   "name": "python",
   "nbconvert_exporter": "python",
   "pygments_lexer": "ipython3",
   "version": "3.12.4"
  }
 },
 "nbformat": 4,
 "nbformat_minor": 5
}
