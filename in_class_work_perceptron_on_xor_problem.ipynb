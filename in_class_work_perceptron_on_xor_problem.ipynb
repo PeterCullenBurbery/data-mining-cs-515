{
 "cells": [
  {
   "cell_type": "markdown",
   "metadata": {},
   "source": [
    "# Assignment: \n",
    "\n",
    "In this assignment, we will learn about Perceptron. It is recommended to use python 3.5 version or greater. \n",
    "\n",
    "We will use sklearn package in ipython jupyter notebook. You are required to download and install `anaconda` package in order to run the notebook jupyter. After installing anaconda, open jupyter. This will open jupyter window in your browser. Upload `*.ipynb` file to the jupyter to start the assignment."
   ]
  },
  {
   "cell_type": "markdown",
   "metadata": {},
   "source": [
    "## XOR Problem\n",
    "Run the following code and try to understand each part. This code is generating four points and gives labels 0 or 1 to each point. The idea is to draw a line to separate them. `This is NOT the XOR problem`."
   ]
  },
  {
   "cell_type": "code",
   "execution_count": 54,
   "metadata": {},
   "outputs": [
    {
     "data": {
      "image/png": "[encoded data removed]",
      "text/plain": [
       "<Figure size 432x288 with 1 Axes>"
      ]
     },
     "metadata": {
      "needs_background": "light"
     },
     "output_type": "display_data"
    }
   ],
   "source": [
    "# Import necessary Packages\n",
    "import numpy as np\n",
    "import matplotlib.pyplot as plt\n",
    "%matplotlib inline\n",
    "import time\n",
    "\n",
    "XOR_X = [[0, 0], [0, 1], [1, 0], [1, 1]]  # Features\n",
    "XOR_Y = [0, 0, 1, 1]  # Class labels\n",
    "\n",
    "XOR_X = np.array(XOR_X)\n",
    "\n",
    "for i in range(len(XOR_Y)):\n",
    "    if XOR_Y[i] == 1:\n",
    "        plt.scatter(XOR_X[i, 0], XOR_X[i, 1], marker=u'x', s=1000)\n",
    "    elif XOR_Y[i] == 0:\n",
    "        plt.scatter(XOR_X[i, 0], XOR_X[i, 1], marker=u'o', s=1000)"
   ]
  },
  {
   "cell_type": "markdown",
   "metadata": {},
   "source": [
    "**Question 1.1** Study the function plt.scatter in pyplot. What parameters does it take? Try to use some of them in the above code."
   ]
  },
  {
   "cell_type": "markdown",
   "metadata": {},
   "source": [
    "Ans :"
   ]
  },
  {
   "cell_type": "markdown",
   "metadata": {},
   "source": [
    "Study the code below. Change `weights` to check if the line can separate two type of points."
   ]
  },
  {
   "cell_type": "code",
   "execution_count": 58,
   "metadata": {},
   "outputs": [
    {
     "name": "stdout",
     "output_type": "stream",
     "text": [
      "Number of features for each data =  2\n"
     ]
    },
    {
     "data": {
      "image/png": "[encoded data removed]",
      "text/plain": [
       "<Figure size 432x288 with 1 Axes>"
      ]
     },
     "metadata": {
      "needs_background": "light"
     },
     "output_type": "display_data"
    }
   ],
   "source": [
    "no_of_features = len(XOR_X[0])\n",
    "print(\"Number of features for each data = \", no_of_features)\n",
    "\n",
    "weights = np.array([0.0, 2.0, 10])\n",
    "\n",
    "\n",
    "XOR_X = [[0, 0], [0, 1], [1, 0], [1, 1]]  # Features\n",
    "XOR_Y = [0, 0, 1, 1]  # Class labels\n",
    "\n",
    "XOR_X = np.array(XOR_X)\n",
    "\n",
    "for i in range(len(XOR_Y)):\n",
    "    if XOR_Y[i] == 1:\n",
    "        plt.scatter(XOR_X[i, 0], XOR_X[i, 1], marker=u'x', s=1000)\n",
    "    elif XOR_Y[i] == 0:\n",
    "        plt.scatter(XOR_X[i, 0], XOR_X[i, 1], marker=u'o', s=1000)\n",
    "\n",
    "\n",
    "\n",
    "XX, YY = np.mgrid[-2:3:200j, -2:3:200j]\n",
    "XXX = []\n",
    "for xs, ys in zip(XX, YY):\n",
    "    for x_, y_ in zip(xs, ys):\n",
    "        XXX.append([1, x_, y_])\n",
    "      \n",
    "Z = np.dot(XXX, weights) \n",
    "Z = Z.reshape(XX.shape)\n",
    "plt.contour(XX, YY, Z, levels=[0])\n",
    "plt.show()\n"
   ]
  },
  {
   "cell_type": "markdown",
   "metadata": {},
   "source": [
    "**Question 1.2** We will try to understand some of the functions used in the code above.\n",
    "\n",
    "(b) What does `mgrid` do?\n",
    "(c) What does `append` do?\n",
    "(d) What does `contour` do?\n",
    "(e) What does `zip` do?\n",
    "(f) What does `reshape` do?\n",
    "(g) What does `np.dot` do?"
   ]
  },
  {
   "cell_type": "markdown",
   "metadata": {},
   "source": [
    "**Question 2**. Now we will create a XOR problem. Copy the code from above and change `XOR_Y` variable to make the problem a XOR problem. Then try to change `weights` to see if you can draw a line to separate the two type of points."
   ]
  },
  {
   "cell_type": "code",
   "execution_count": null,
   "metadata": {},
   "outputs": [],
   "source": [
    "# Copy the code from above and change it to generate XOR."
   ]
  },
  {
   "cell_type": "markdown",
   "metadata": {},
   "source": [
    "Study the following code. Only pay attention to the `Algo` section. Try to use `print` statements to understand what is going on. This code is trying to shift the line so that it can separate the points."
   ]
  },
  {
   "cell_type": "code",
   "execution_count": 56,
   "metadata": {},
   "outputs": [
    {
     "name": "stdout",
     "output_type": "stream",
     "text": [
      "weights =  [ 0.6 -2.9 -0.9]\n",
      "weights =  [ 0.7 -2.7 -0.8]\n",
      "weights =  [ 0.8 -2.5 -0.7]\n",
      "weights =  [ 0.9 -2.3 -0.6]\n"
     ]
    },
    {
     "data": {
      "image/png": "[encoded data removed]",
      "text/plain": [
       "<Figure size 432x288 with 1 Axes>"
      ]
     },
     "metadata": {
      "needs_background": "light"
     },
     "output_type": "display_data"
    }
   ],
   "source": [
    "############ Data ####################\n",
    "XOR_X = [[0, 0], [0, 1], [1, 0], [1, 1]]  # Features\n",
    "XOR_Y = [0, 0, 1, 1]  # Class labels\n",
    "XOR_X = np.array(XOR_X)\n",
    "########### Algo ##################\n",
    "iteration = 4\n",
    "learning_rate=0.1\n",
    "\n",
    "weights = np.array([0.5, -3.1, -1])\n",
    "\n",
    "for _ in range(iteration):\n",
    "    for x, y in zip(XOR_X, XOR_Y):\n",
    "        \n",
    "        res = np.dot(x, weights[1:]) + weights[0]\n",
    "        if res > 0:\n",
    "            prediction = 1\n",
    "        else :\n",
    "            prediction = 0\n",
    "            \n",
    "        weights[1:] += learning_rate * (y - prediction) * x\n",
    "        weights[0] += learning_rate * (y - prediction)\n",
    "\n",
    "\n",
    "    print(\"weights = \",  weights)        \n",
    "    time.sleep(1)\n",
    "################## DRAW  #################\n",
    "for i in range(len(XOR_Y)):\n",
    "    if XOR_Y[i] == 1:\n",
    "        plt.scatter(XOR_X[i, 0], XOR_X[i, 1], marker=u'x', s=100)\n",
    "    elif XOR_Y[i] == 0:\n",
    "        plt.scatter(XOR_X[i, 0], XOR_X[i, 1], marker=u'o', s=100)\n",
    "\n",
    "\n",
    "\n",
    "XX, YY = np.mgrid[-2:3:200j, -2:3:200j]\n",
    "XXX = []\n",
    "for xs, ys in zip(XX, YY):\n",
    "    for x_, y_ in zip(xs, ys):\n",
    "        XXX.append([1, x_, y_])\n",
    "\n",
    "#print(XXX)        \n",
    "Z = np.dot(XXX, weights) \n",
    " \n",
    "Z = Z.reshape(XX.shape)\n",
    "plt.contour(XX, YY, Z, levels=[0])\n",
    "plt.show()\n",
    "        "
   ]
  },
  {
   "cell_type": "code",
   "execution_count": null,
   "metadata": {},
   "outputs": [],
   "source": []
  },
  {
   "cell_type": "markdown",
   "metadata": {},
   "source": [
    "**Question 3**. Copy the previous code and use the `DRAW` section inside the inner `for` loop so that you can watch how the line moves."
   ]
  },
  {
   "cell_type": "code",
   "execution_count": 57,
   "metadata": {},
   "outputs": [
    {
     "name": "stdout",
     "output_type": "stream",
     "text": [
      "Lets see how the line changes ........ \n"
     ]
    }
   ],
   "source": [
    "# write code here for question 3\n",
    "print(\"Lets see how the line changes ........ \")"
   ]
  },
  {
   "cell_type": "markdown",
   "metadata": {},
   "source": [
    "**Question 4**. Copy the previous code and change it to `XOR` problem to visualize the separating line."
   ]
  },
  {
   "cell_type": "code",
   "execution_count": null,
   "metadata": {},
   "outputs": [],
   "source": [
    "# Write your code here"
   ]
  },
  {
   "cell_type": "markdown",
   "metadata": {},
   "source": [
    "**Question 5**. What did you learn from previous experiment ?"
   ]
  },
  {
   "cell_type": "markdown",
   "metadata": {},
   "source": [
    "Ans: "
   ]
  },
  {
   "cell_type": "code",
   "execution_count": null,
   "metadata": {},
   "outputs": [],
   "source": []
  }
 ],
 "metadata": {
  "anaconda-cloud": {},
  "kernelspec": {
   "display_name": "Python 3 (ipykernel)",
   "language": "python",
   "name": "python3"
  },
  "language_info": {
   "codemirror_mode": {
    "name": "ipython",
    "version": 3
   },
   "file_extension": ".py",
   "mimetype": "text/x-python",
   "name": "python",
   "nbconvert_exporter": "python",
   "pygments_lexer": "ipython3",
   "version": "3.11.4"
  }
 },
 "nbformat": 4,
 "nbformat_minor": 1
}
